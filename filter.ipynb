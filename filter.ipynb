{
 "cells": [
  {
   "cell_type": "code",
   "execution_count": 7,
   "metadata": {},
   "outputs": [],
   "source": [
    "import pandas as pd\n",
    "\n",
    "df = pd.DataFrame({\n",
    "    'Name': ['John', 'Jane', 'Doe','Taj', 'Ravi', 'Anu'],\n",
    "    'Age': [28, 34, 45, 22, 30, 25],\n",
    "    'Experience': [5, 10, 15, 2, 8, 3],\n",
    "    'Salary': [50000, 60000, 70000, 40000, 55000, 45000],\n",
    "})\n",
    "\n",
    "df.to_csv('filter.csv', index=False)"
   ]
  },
  {
   "cell_type": "code",
   "execution_count": 8,
   "metadata": {},
   "outputs": [],
   "source": [
    "from pyspark.sql import SparkSession\n",
    "spark = SparkSession.builder.appName(\"filter\").getOrCreate()"
   ]
  },
  {
   "cell_type": "code",
   "execution_count": 9,
   "metadata": {},
   "outputs": [
    {
     "name": "stdout",
     "output_type": "stream",
     "text": [
      "+----+---+----------+------+\n",
      "|Name|Age|Experience|Salary|\n",
      "+----+---+----------+------+\n",
      "|John| 28|         5| 50000|\n",
      "|Jane| 34|        10| 60000|\n",
      "| Doe| 45|        15| 70000|\n",
      "| Taj| 22|         2| 40000|\n",
      "|Ravi| 30|         8| 55000|\n",
      "| Anu| 25|         3| 45000|\n",
      "+----+---+----------+------+\n",
      "\n"
     ]
    }
   ],
   "source": [
    "df_pyspark = spark.read.csv('filter.csv', header=True, inferSchema=True)\n",
    "df_pyspark.show()"
   ]
  },
  {
   "cell_type": "code",
   "execution_count": 13,
   "metadata": {},
   "outputs": [
    {
     "name": "stdout",
     "output_type": "stream",
     "text": [
      "+----+---+----------+------+\n",
      "|Name|Age|Experience|Salary|\n",
      "+----+---+----------+------+\n",
      "|Jane| 34|        10| 60000|\n",
      "| Doe| 45|        15| 70000|\n",
      "|Ravi| 30|         8| 55000|\n",
      "+----+---+----------+------+\n",
      "\n"
     ]
    }
   ],
   "source": [
    "# df_pyspark.filter(\"Age > 30\").show()\n",
    "df_pyspark.filter(df_pyspark['Age'] >= 30).show()"
   ]
  },
  {
   "cell_type": "code",
   "execution_count": 11,
   "metadata": {},
   "outputs": [
    {
     "name": "stdout",
     "output_type": "stream",
     "text": [
      "+----+------+\n",
      "|Name|Salary|\n",
      "+----+------+\n",
      "|Jane| 60000|\n",
      "| Doe| 70000|\n",
      "+----+------+\n",
      "\n"
     ]
    }
   ],
   "source": [
    "df_pyspark.filter(\"Age > 30\").select('Name', 'Salary').show()"
   ]
  },
  {
   "cell_type": "code",
   "execution_count": 14,
   "metadata": {},
   "outputs": [
    {
     "name": "stdout",
     "output_type": "stream",
     "text": [
      "+----+---+----------+------+\n",
      "|Name|Age|Experience|Salary|\n",
      "+----+---+----------+------+\n",
      "|John| 28|         5| 50000|\n",
      "| Taj| 22|         2| 40000|\n",
      "|Ravi| 30|         8| 55000|\n",
      "| Anu| 25|         3| 45000|\n",
      "+----+---+----------+------+\n",
      "\n"
     ]
    }
   ],
   "source": [
    "df_pyspark.filter((df_pyspark['Age'] <= 30) & (df_pyspark['Age'] >= 18)).show()"
   ]
  },
  {
   "cell_type": "code",
   "execution_count": 15,
   "metadata": {},
   "outputs": [
    {
     "name": "stdout",
     "output_type": "stream",
     "text": [
      "+----+---+----------+------+\n",
      "|Name|Age|Experience|Salary|\n",
      "+----+---+----------+------+\n",
      "|John| 28|         5| 50000|\n",
      "|Jane| 34|        10| 60000|\n",
      "| Doe| 45|        15| 70000|\n",
      "| Taj| 22|         2| 40000|\n",
      "|Ravi| 30|         8| 55000|\n",
      "| Anu| 25|         3| 45000|\n",
      "+----+---+----------+------+\n",
      "\n"
     ]
    }
   ],
   "source": [
    "df_pyspark.filter((df_pyspark['Age'] <= 30) | (df_pyspark['Age'] >= 18)).show()"
   ]
  },
  {
   "cell_type": "code",
   "execution_count": 16,
   "metadata": {},
   "outputs": [
    {
     "name": "stdout",
     "output_type": "stream",
     "text": [
      "+----+---+----------+------+\n",
      "|Name|Age|Experience|Salary|\n",
      "+----+---+----------+------+\n",
      "|Jane| 34|        10| 60000|\n",
      "| Doe| 45|        15| 70000|\n",
      "+----+---+----------+------+\n",
      "\n"
     ]
    }
   ],
   "source": [
    "df_pyspark.filter(~((df_pyspark['Age'] <= 30) & (df_pyspark['Age'] >= 18))).show()"
   ]
  },
  {
   "cell_type": "code",
   "execution_count": null,
   "metadata": {},
   "outputs": [],
   "source": []
  }
 ],
 "metadata": {
  "kernelspec": {
   "display_name": "Python 3.10 (PySpark)",
   "language": "python",
   "name": "pyspark-env"
  },
  "language_info": {
   "codemirror_mode": {
    "name": "ipython",
    "version": 3
   },
   "file_extension": ".py",
   "mimetype": "text/x-python",
   "name": "python",
   "nbconvert_exporter": "python",
   "pygments_lexer": "ipython3",
   "version": "3.10.18"
  }
 },
 "nbformat": 4,
 "nbformat_minor": 2
}
